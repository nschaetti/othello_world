{
 "cells": [
  {
   "cell_type": "code",
   "id": "b429e6d2-101b-45df-9958-85b10e8aa81b",
   "metadata": {
    "ExecuteTime": {
     "end_time": "2025-09-14T16:34:51.486947Z",
     "start_time": "2025-09-14T16:34:51.358256Z"
    }
   },
   "source": [
    "import os\n",
    "%load_ext autoreload\n",
    "%autoreload 2"
   ],
   "outputs": [],
   "execution_count": 1
  },
  {
   "cell_type": "code",
   "id": "05efae22-ca7c-44df-9bf2-8551c74d9224",
   "metadata": {
    "ExecuteTime": {
     "end_time": "2025-09-14T16:34:52.976587Z",
     "start_time": "2025-09-14T16:34:52.249175Z"
    }
   },
   "source": [
    "# make deterministic\n",
    "from mingpt.utils import set_seed\n",
    "set_seed(44)"
   ],
   "outputs": [],
   "execution_count": 2
  },
  {
   "cell_type": "code",
   "id": "796b304f-0f64-46d4-ae69-b03553c08034",
   "metadata": {
    "ExecuteTime": {
     "end_time": "2025-09-14T16:34:54.140091Z",
     "start_time": "2025-09-14T16:34:54.109768Z"
    }
   },
   "source": [
    "import math\n",
    "import time\n",
    "import numpy as np\n",
    "from copy import deepcopy\n",
    "import pickle\n",
    "import seaborn as sns\n",
    "import torch\n",
    "import torch.nn as nn\n",
    "from torch.utils.data.dataloader import DataLoader\n",
    "from torch.nn import functional as F\n",
    "from torch.utils.data import Subset\n",
    "from tqdm import tqdm\n",
    "from matplotlib import pyplot as plt\n",
    "\n",
    "from data import get_othello, plot_probs, plot_mentals\n",
    "from data.othello import permit, start_hands, OthelloBoardState, permit_reverse\n",
    "from mingpt.dataset import CharDataset\n",
    "from mingpt.model import GPT, GPTConfig, GPTforProbeIA\n",
    "from mingpt.utils import sample, intervene, print_board\n",
    "from mingpt.probe_model import BatteryProbeClassification, BatteryProbeClassificationTwoLayer\n",
    "\n",
    "plt.rc('text', usetex=True)\n",
    "plt.rc('font', **{'size': 14.0})\n",
    "plt.rc('text.latex', preamble=r'\\usepackage{lmodern}')"
   ],
   "outputs": [],
   "execution_count": 3
  },
  {
   "cell_type": "code",
   "id": "8252c601-3340-4879-b979-df868947b590",
   "metadata": {
    "ExecuteTime": {
     "end_time": "2025-09-14T16:34:57.291788Z",
     "start_time": "2025-09-14T16:34:57.281961Z"
    }
   },
   "source": [
    "championship = False"
   ],
   "outputs": [],
   "execution_count": 4
  },
  {
   "cell_type": "code",
   "id": "be98be3c-f484-4a15-bbe9-a640ecb37bac",
   "metadata": {
    "ExecuteTime": {
     "end_time": "2025-09-14T16:35:00.433159Z",
     "start_time": "2025-09-14T16:35:00.420929Z"
    }
   },
   "source": [
    "mid_dim = 128\n",
    "how_many_history_step_to_use = 99\n",
    "exp = f\"state_tl{mid_dim}\"\n",
    "if championship:\n",
    "    exp += \"_championship\""
   ],
   "outputs": [],
   "execution_count": 5
  },
  {
   "cell_type": "markdown",
   "id": "010c1fcf-a81e-4a0a-840a-50dce03258c3",
   "metadata": {},
   "source": [
    "## Load a game from intervention benchmark and select an intervention configuration"
   ]
  },
  {
   "cell_type": "code",
   "id": "8de77e19-451a-4f3b-89fd-4efdba144882",
   "metadata": {
    "ExecuteTime": {
     "end_time": "2025-09-14T16:35:06.496110Z",
     "start_time": "2025-09-14T16:35:06.484471Z"
    }
   },
   "source": [
    "with open(\"intervention_benchmark.pkl\", \"rb\") as input_file:\n",
    "    dataset = pickle.load(input_file)"
   ],
   "outputs": [],
   "execution_count": 6
  },
  {
   "cell_type": "code",
   "id": "a2e08851-7508-4a56-993a-0f67be5ecb01",
   "metadata": {
    "ExecuteTime": {
     "end_time": "2025-09-14T16:35:11.062019Z",
     "start_time": "2025-09-14T16:35:11.049427Z"
    }
   },
   "source": [
    "case_id = 777\n",
    "wtd = {\n",
    "    \"intervention_position\": permit_reverse(dataset[case_id][\"pos_int\"]), \n",
    "    \"intervention_from\": dataset[case_id][\"ori_color\"], \n",
    "    \"intervention_to\": 2 - dataset[case_id][\"ori_color\"], \n",
    "}\n",
    "completion = dataset[case_id][\"history\"]\n",
    "print(wtd)"
   ],
   "outputs": [
    {
     "name": "stdout",
     "output_type": "stream",
     "text": [
      "{'intervention_position': 'e6', 'intervention_from': 2.0, 'intervention_to': 0.0}\n"
     ]
    }
   ],
   "execution_count": 7
  },
  {
   "cell_type": "markdown",
   "id": "4b89df37-9dea-4261-94e4-b602ec8cfffb",
   "metadata": {},
   "source": [
    "## Load nonlinear probes"
   ]
  },
  {
   "cell_type": "code",
   "id": "f8e85d97-4f7a-4c90-99b2-9b04cae1154d",
   "metadata": {
    "ExecuteTime": {
     "end_time": "2025-09-14T16:40:13.551482Z",
     "start_time": "2025-09-14T16:40:13.516817Z"
    }
   },
   "source": [
    "probes = {}\n",
    "layer_s = 4\n",
    "layer_e = 9\n",
    "for layer in range(layer_s, layer_e):\n",
    "    p = BatteryProbeClassificationTwoLayer(torch.cuda.current_device(), probe_class=3, num_task=64, mid_dim=mid_dim)\n",
    "    load_res = p.load_state_dict(torch.load(f\"./ckpts/battery_othello/{exp}/layer{layer}/checkpoint.ckpt\"))\n",
    "    p.eval()\n",
    "    probes[layer] = p"
   ],
   "outputs": [],
   "execution_count": 10
  },
  {
   "cell_type": "markdown",
   "id": "96259d73-16a9-4ec2-94e2-1dbc294648b3",
   "metadata": {},
   "source": [
    "## Load trained models"
   ]
  },
  {
   "cell_type": "code",
   "id": "a8d0f8a5-b06b-454e-a1b2-a97d719f3d17",
   "metadata": {
    "ExecuteTime": {
     "end_time": "2025-09-14T16:42:34.619454Z",
     "start_time": "2025-09-14T16:42:33.254931Z"
    }
   },
   "source": [
    "# othello = get_othello(ood_perc=.2, data_root=\"data/othello_pgn\", wthor=False)\n",
    "othello = get_othello(ood_perc=0., data_root=None, wthor=False, ood_num=1)\n",
    "train_dataset = CharDataset(othello)\n",
    "\n",
    "mconf = GPTConfig(61, 59, n_layer=8, n_head=8, n_embd=512)\n",
    "\n",
    "models = {}\n",
    "for layer in range(layer_s, layer_e):\n",
    "    model = GPTforProbeIA(mconf, probe_layer=layer)\n",
    "    # model = GPT(mconf)\n",
    "    load_res = model.load_state_dict(torch.load(\"./ckpts/gpt_synthetic.ckpt\" if not championship else \"./ckpts/gpt_championship.ckpt\"))\n",
    "    if torch.cuda.is_available():\n",
    "        device = torch.cuda.current_device()\n",
    "        model = model.to(device)\n",
    "    _ = model.eval()\n",
    "    models[layer] = model"
   ],
   "outputs": [
    {
     "name": "stderr",
     "output_type": "stream",
     "text": [
      "100%|██████████| 1/1 [00:00<00:00, 83.09it/s]\n"
     ]
    },
    {
     "name": "stdout",
     "output_type": "stream",
     "text": [
      "Dataset created has 1 sequences, 61 unique words.\n"
     ]
    }
   ],
   "execution_count": 14
  },
  {
   "cell_type": "markdown",
   "id": "cfbc45bc-e369-44f4-bc5e-54bfec187825",
   "metadata": {},
   "source": [
    "### Check the partial game progression"
   ]
  },
  {
   "cell_type": "code",
   "id": "5f90954b-6e49-4b63-9dca-5851c748ba54",
   "metadata": {
    "ExecuteTime": {
     "end_time": "2025-09-14T16:42:41.185049Z",
     "start_time": "2025-09-14T16:42:41.165491Z"
    }
   },
   "source": [
    "ab = OthelloBoardState()\n",
    "ab.update(completion, prt=True)"
   ],
   "outputs": [
    {
     "name": "stdout",
     "output_type": "stream",
     "text": [
      "--------------------\n",
      "[]\n",
      "a                \n",
      "b                \n",
      "c                \n",
      "d       O X      \n",
      "e       X O      \n",
      "f                \n",
      "g                \n",
      "h                \n",
      "  1 2 3 4 5 6 7 8\n",
      "--------------------\n",
      "--------------------\n",
      "['e6']\n",
      "a                \n",
      "b                \n",
      "c                \n",
      "d       O X      \n",
      "e       X X X    \n",
      "f                \n",
      "g                \n",
      "h                \n",
      "  1 2 3 4 5 6 7 8\n",
      "--------------------\n",
      "--------------------\n",
      "['e6', 'd6']\n",
      "a                \n",
      "b                \n",
      "c                \n",
      "d       O O O    \n",
      "e       X X X    \n",
      "f                \n",
      "g                \n",
      "h                \n",
      "  1 2 3 4 5 6 7 8\n",
      "--------------------\n",
      "--------------------\n",
      "['e6', 'd6', 'c3']\n",
      "a                \n",
      "b                \n",
      "c     X          \n",
      "d       X O O    \n",
      "e       X X X    \n",
      "f                \n",
      "g                \n",
      "h                \n",
      "  1 2 3 4 5 6 7 8\n",
      "--------------------\n",
      "--------------------\n",
      "['e6', 'd6', 'c3', 'f3']\n",
      "a                \n",
      "b                \n",
      "c     X          \n",
      "d       X O O    \n",
      "e       O X X    \n",
      "f     O          \n",
      "g                \n",
      "h                \n",
      "  1 2 3 4 5 6 7 8\n",
      "--------------------\n",
      "--------------------\n",
      "['e6', 'd6', 'c3', 'f3', 'c4']\n",
      "a                \n",
      "b                \n",
      "c     X X        \n",
      "d       X X O    \n",
      "e       O X X    \n",
      "f     O          \n",
      "g                \n",
      "h                \n",
      "  1 2 3 4 5 6 7 8\n",
      "--------------------\n"
     ]
    }
   ],
   "execution_count": 15
  },
  {
   "cell_type": "code",
   "id": "8dd21ce5-6c66-419f-a4d0-2a5c12896862",
   "metadata": {
    "ExecuteTime": {
     "end_time": "2025-09-14T16:42:47.399683Z",
     "start_time": "2025-09-14T16:42:47.384202Z"
    }
   },
   "source": [
    "partial_game = torch.tensor([train_dataset.stoi[s] for s in completion], dtype=torch.long).to(device)"
   ],
   "outputs": [],
   "execution_count": 16
  },
  {
   "cell_type": "markdown",
   "id": "10e84e85-9c75-402c-9026-6dee99e4db46",
   "metadata": {},
   "source": [
    "### Check pre-intervention ground-truth legal next-steps and the predicted ones"
   ]
  },
  {
   "cell_type": "code",
   "id": "d7b0c20c-895c-4385-bb69-0ff45e39715a",
   "metadata": {
    "ExecuteTime": {
     "end_time": "2025-09-14T16:42:54.274509Z",
     "start_time": "2025-09-14T16:42:54.255450Z"
    }
   },
   "source": [
    "pre_intv_valids = [permit_reverse(_) for _ in ab.get_valid_moves()]\n",
    "pre_intv_valids"
   ],
   "outputs": [
    {
     "data": {
      "text/plain": [
       "['b4', 'c6', 'd3', 'e7', 'f4', 'f6']"
      ]
     },
     "execution_count": 17,
     "metadata": {},
     "output_type": "execute_result"
    }
   ],
   "execution_count": 17
  },
  {
   "cell_type": "code",
   "id": "9ad9b4d1-5fd5-48db-add4-fa03305ad661",
   "metadata": {
    "ExecuteTime": {
     "end_time": "2025-09-14T16:43:00.090396Z",
     "start_time": "2025-09-14T16:42:59.863461Z"
    }
   },
   "source": [
    "pre_intv_pred, _ = model(partial_game[None, :])  # [B, T, F=512]\n",
    "# no history activations used here, that's why the prediction map is different to across layers\n",
    "pre_intv_pred = pre_intv_pred[0, -1, 1:]\n",
    "padding = torch.zeros(2).cuda()\n",
    "# pre_intv_pred = torch.softmax(pre_intv_pred, dim=0)  # keep logits\n",
    "pre_intv_pred = torch.cat([pre_intv_pred[:27], padding, pre_intv_pred[27:33], padding, pre_intv_pred[33:]], dim=0)"
   ],
   "outputs": [],
   "execution_count": 18
  },
  {
   "cell_type": "code",
   "id": "f71efd0e-2614-41d5-9ac0-7d9bdf212c36",
   "metadata": {
    "ExecuteTime": {
     "end_time": "2025-09-14T16:46:50.214173Z",
     "start_time": "2025-09-14T16:46:37.153013Z"
    }
   },
   "source": [
    "fig=plt.figure(figsize=(10, 6), dpi= 80, facecolor='w', edgecolor='k')\n",
    "vv = 10\n",
    "gems = {\"pre\": pre_intv_pred.detach().cpu().numpy().reshape(8, 8)}\n",
    "sns.heatmap(pre_intv_pred.detach().cpu().numpy().reshape(8, 8), vmin=-vv, vmax=vv, \n",
    "            yticklabels=list(\"ABCDEFGH\"), xticklabels=list(range(1,9)), square=True, \n",
    "            annot=True, fmt=\".2f\")"
   ],
   "outputs": [
    {
     "data": {
      "text/plain": [
       "<Axes: >"
      ]
     },
     "execution_count": 20,
     "metadata": {},
     "output_type": "execute_result"
    },
    {
     "data": {
      "text/plain": [
       "<Figure size 800x480 with 2 Axes>"
      ],
      "image/png": "[encoded data removed]"
     },
     "metadata": {},
     "output_type": "display_data"
    }
   ],
   "execution_count": 20
  },
  {
   "cell_type": "markdown",
   "id": "c0e559c0-78b1-4114-af0f-521db6b7107d",
   "metadata": {},
   "source": [
    "## Intervene on all board positions and save prediction logits\n",
    "0 for white; 1 for blank; 2 for black"
   ]
  },
  {
   "cell_type": "code",
   "id": "bb64c34d-ec70-474b-a6c4-efe70aedcd37",
   "metadata": {
    "ExecuteTime": {
     "end_time": "2025-09-14T16:46:58.132626Z",
     "start_time": "2025-09-14T16:46:58.121310Z"
    }
   },
   "source": [
    "htd = {\"lr\": 1e-3, \"steps\": 1000, \"reg_strg\": 0.2}"
   ],
   "outputs": [],
   "execution_count": 21
  },
  {
   "cell_type": "code",
   "id": "83ef294d-ad0b-4256-bd16-0ef533250e6f",
   "metadata": {
    "ExecuteTime": {
     "end_time": "2025-09-14T16:52:19.975958Z",
     "start_time": "2025-09-14T16:47:00.951073Z"
    }
   },
   "source": [
    "for square in [permit_reverse(_) for _ in range(64)]:\n",
    "    wtd[\"intervention_position\"] = square\n",
    "    move = permit(wtd[\"intervention_position\"])\n",
    "    r, c = move // 8, move % 8\n",
    "    wtd[\"intervention_from\"] = ab.state[r, c] + 1\n",
    "    wtd[\"intervention_to\"] = 2 - wtd[\"intervention_from\"]\n",
    "    wtd_list = [wtd]\n",
    "    \n",
    "    p = probes[layer_s]\n",
    "    whole_mid_act = models[layer_s].forward_1st_stage(partial_game[None, :])  # [B, T, F=512]\n",
    "\n",
    "    # intervene at the earlest interested layer \n",
    "    mid_act = whole_mid_act[0, -1]\n",
    "    pre_intv_logits = p(mid_act[None, :])[0].squeeze(0)  # [64, 3]\n",
    "    labels_pre_intv = pre_intv_logits.detach().argmax(dim=-1)\n",
    "    new_mid_act = mid_act.clone()\n",
    "    for wtd in wtd_list:\n",
    "        new_mid_act = intervene(p, new_mid_act, labels_pre_intv, wtd, htd, plot=True)\n",
    "        pre_intv_logits = p(new_mid_act[None, :])[0].squeeze(0)  # [64, 3]\n",
    "        labels_pre_intv = pre_intv_logits.detach().argmax(dim=-1)\n",
    "\n",
    "    # swap in \n",
    "    whole_mid_act[0, -1] = new_mid_act\n",
    "\n",
    "    for i, layer in enumerate(range(layer_s, layer_e - 1)):  # 4, 5, 6, 7, indices of the layers to be passed\n",
    "        p = probes[layer+1]\n",
    "        whole_mid_act = models[layer_s].forward_2nd_stage(whole_mid_act, layer, layer+1)[0]  # [1, T, F=512]\n",
    "\n",
    "        # intervene the output of the features freshly out\n",
    "        mid_act = whole_mid_act[0, -1]\n",
    "        pre_intv_logits = p(mid_act[None, :])[0].squeeze(0)  # [64, 3]\n",
    "        labels_pre_intv = pre_intv_logits.detach().argmax(dim=-1)\n",
    "        new_mid_act = mid_act.clone()\n",
    "        for wtd in wtd_list:\n",
    "            new_mid_act = intervene(p, new_mid_act, labels_pre_intv, wtd, htd, plot=True)\n",
    "            pre_intv_logits = p(new_mid_act[None, :])[0].squeeze(0)  # [64, 3]\n",
    "            labels_pre_intv = pre_intv_logits.detach().argmax(dim=-1)\n",
    "        # swap in \n",
    "        whole_mid_act[0, -1] = new_mid_act\n",
    "\n",
    "    tb_resumed = whole_mid_act\n",
    "    post_intv_pred, _ = models[layer_s].predict(tb_resumed)\n",
    "    post_intv_pred = post_intv_pred[0, -1, 1:]\n",
    "    # post_intv_pred = torch.softmax(post_intv_pred, dim=0)\n",
    "    post_intv_pred = torch.cat([post_intv_pred[:27], padding, post_intv_pred[27:33], padding, post_intv_pred[33:]], dim=0)\n",
    "    if 0:\n",
    "        gems[square] = torch.softmax(post_intv_pred, dim=0).detach().cpu().numpy().reshape(8, 8)\n",
    "    else:   \n",
    "        gems[square] = post_intv_pred.detach().cpu().numpy().reshape(8, 8)"
   ],
   "outputs": [
    {
     "name": "stdout",
     "output_type": "stream",
     "text": [
      "a1 Sucessfully intervened!\n",
      "a1 Sucessfully intervened!\n",
      "a1 Sucessfully intervened!\n",
      "a1 Sucessfully intervened!\n",
      "a1 Sucessfully intervened!\n",
      "a2 Sucessfully intervened!\n",
      "a2 Sucessfully intervened!\n",
      "a2 Sucessfully intervened!\n",
      "a2 Sucessfully intervened!\n",
      "a2 Sucessfully intervened!\n",
      "a3 Sucessfully intervened!\n",
      "a3 Sucessfully intervened!\n",
      "a3 Sucessfully intervened!\n",
      "a3 Sucessfully intervened!\n",
      "a3 Sucessfully intervened!\n",
      "a4 Sucessfully intervened!\n",
      "a4 Sucessfully intervened!\n",
      "a4 Sucessfully intervened!\n",
      "a4 Sucessfully intervened!\n",
      "a4 Sucessfully intervened!\n",
      "a5 Sucessfully intervened!\n",
      "a5 Sucessfully intervened!\n",
      "a5 Sucessfully intervened!\n",
      "a5 Sucessfully intervened!\n",
      "a5 Sucessfully intervened!\n",
      "a6 Sucessfully intervened!\n",
      "a6 Sucessfully intervened!\n",
      "a6 Sucessfully intervened!\n",
      "a6 Sucessfully intervened!\n",
      "a6 Sucessfully intervened!\n",
      "a7 Sucessfully intervened!\n",
      "a7 Sucessfully intervened!\n",
      "a7 Sucessfully intervened!\n",
      "a7 Sucessfully intervened!\n",
      "a7 Sucessfully intervened!\n",
      "a8 Sucessfully intervened!\n",
      "a8 Sucessfully intervened!\n",
      "a8 Sucessfully intervened!\n",
      "a8 Sucessfully intervened!\n",
      "a8 Sucessfully intervened!\n",
      "b1 Sucessfully intervened!\n",
      "b1 Sucessfully intervened!\n",
      "b1 Sucessfully intervened!\n",
      "b1 Sucessfully intervened!\n",
      "b1 Sucessfully intervened!\n",
      "b2 Sucessfully intervened!\n",
      "b2 Sucessfully intervened!\n",
      "b2 Sucessfully intervened!\n",
      "b2 Sucessfully intervened!\n",
      "b2 Sucessfully intervened!\n",
      "b3 Sucessfully intervened!\n",
      "b3 Sucessfully intervened!\n",
      "b3 Sucessfully intervened!\n",
      "b3 Sucessfully intervened!\n",
      "b3 Sucessfully intervened!\n",
      "b4 Sucessfully intervened!\n",
      "b4 Sucessfully intervened!\n",
      "b4 Sucessfully intervened!\n",
      "b4 Sucessfully intervened!\n",
      "b4 Sucessfully intervened!\n",
      "b5 Sucessfully intervened!\n",
      "b5 Sucessfully intervened!\n",
      "b5 Sucessfully intervened!\n",
      "b5 Sucessfully intervened!\n",
      "b5 Sucessfully intervened!\n",
      "b6 Sucessfully intervened!\n",
      "b6 Sucessfully intervened!\n",
      "b6 Sucessfully intervened!\n",
      "b6 Sucessfully intervened!\n",
      "b6 Sucessfully intervened!\n",
      "b7 Sucessfully intervened!\n",
      "b7 Sucessfully intervened!\n",
      "b7 Sucessfully intervened!\n",
      "b7 Sucessfully intervened!\n",
      "b7 Sucessfully intervened!\n",
      "b8 Sucessfully intervened!\n",
      "b8 Sucessfully intervened!\n",
      "b8 Sucessfully intervened!\n",
      "b8 Sucessfully intervened!\n",
      "b8 Sucessfully intervened!\n",
      "c1 Sucessfully intervened!\n",
      "c1 Sucessfully intervened!\n",
      "c1 Sucessfully intervened!\n",
      "c1 Sucessfully intervened!\n",
      "c1 Sucessfully intervened!\n",
      "c2 Sucessfully intervened!\n",
      "c2 Sucessfully intervened!\n",
      "c2 Sucessfully intervened!\n",
      "c2 Sucessfully intervened!\n",
      "c2 Sucessfully intervened!\n",
      "c3 Sucessfully intervened!\n",
      "c3 Sucessfully intervened!\n",
      "c3 Sucessfully intervened!\n",
      "c3 Sucessfully intervened!\n",
      "c3 Sucessfully intervened!\n",
      "c4 Sucessfully intervened!\n",
      "c4 Sucessfully intervened!\n",
      "c4 Sucessfully intervened!\n",
      "c4 Sucessfully intervened!\n",
      "c4 Sucessfully intervened!\n",
      "c5 Sucessfully intervened!\n",
      "c5 Sucessfully intervened!\n",
      "c5 Sucessfully intervened!\n",
      "c5 Sucessfully intervened!\n",
      "c5 Sucessfully intervened!\n",
      "c6 Sucessfully intervened!\n",
      "c6 Sucessfully intervened!\n",
      "c6 Sucessfully intervened!\n",
      "c6 Sucessfully intervened!\n",
      "c6 Sucessfully intervened!\n",
      "c7 Sucessfully intervened!\n",
      "c7 Sucessfully intervened!\n",
      "c7 Sucessfully intervened!\n",
      "c7 Sucessfully intervened!\n",
      "c7 Sucessfully intervened!\n",
      "c8 Sucessfully intervened!\n",
      "c8 Sucessfully intervened!\n",
      "c8 Sucessfully intervened!\n",
      "c8 Sucessfully intervened!\n",
      "c8 Sucessfully intervened!\n",
      "d1 Sucessfully intervened!\n",
      "d1 Sucessfully intervened!\n",
      "d1 Sucessfully intervened!\n",
      "d1 Sucessfully intervened!\n",
      "d1 Sucessfully intervened!\n",
      "d2 Sucessfully intervened!\n",
      "d2 Sucessfully intervened!\n",
      "d2 Sucessfully intervened!\n",
      "d2 Sucessfully intervened!\n",
      "d2 Sucessfully intervened!\n",
      "d3 Sucessfully intervened!\n",
      "d3 Sucessfully intervened!\n",
      "d3 Sucessfully intervened!\n",
      "d3 Sucessfully intervened!\n",
      "d3 Sucessfully intervened!\n",
      "d4 Sucessfully intervened!\n",
      "d4 Sucessfully intervened!\n",
      "d4 Sucessfully intervened!\n",
      "d4 Sucessfully intervened!\n",
      "d4 Sucessfully intervened!\n",
      "d5 Sucessfully intervened!\n",
      "d5 Sucessfully intervened!\n",
      "d5 Sucessfully intervened!\n",
      "d5 Sucessfully intervened!\n",
      "d5 Sucessfully intervened!\n",
      "d6 Sucessfully intervened!\n",
      "d6 Sucessfully intervened!\n",
      "d6 Sucessfully intervened!\n",
      "d6 Sucessfully intervened!\n",
      "d6 Sucessfully intervened!\n",
      "d7 Sucessfully intervened!\n",
      "d7 Sucessfully intervened!\n",
      "d7 Sucessfully intervened!\n",
      "d7 Sucessfully intervened!\n",
      "d7 Sucessfully intervened!\n",
      "d8 Sucessfully intervened!\n",
      "d8 Sucessfully intervened!\n",
      "d8 Sucessfully intervened!\n",
      "d8 Sucessfully intervened!\n",
      "d8 Sucessfully intervened!\n",
      "e1 Sucessfully intervened!\n",
      "e1 Sucessfully intervened!\n",
      "e1 Sucessfully intervened!\n",
      "e1 Sucessfully intervened!\n",
      "e1 Sucessfully intervened!\n",
      "e2 Sucessfully intervened!\n",
      "e2 Sucessfully intervened!\n",
      "e2 Sucessfully intervened!\n",
      "e2 Sucessfully intervened!\n",
      "e2 Sucessfully intervened!\n",
      "e3 Sucessfully intervened!\n",
      "e3 Sucessfully intervened!\n",
      "e3 Sucessfully intervened!\n",
      "e3 Sucessfully intervened!\n",
      "e3 Sucessfully intervened!\n",
      "e4 Sucessfully intervened!\n",
      "e4 Sucessfully intervened!\n",
      "e4 Sucessfully intervened!\n",
      "e4 Sucessfully intervened!\n",
      "e4 Sucessfully intervened!\n",
      "e5 Sucessfully intervened!\n",
      "e5 Sucessfully intervened!\n",
      "e5 Sucessfully intervened!\n",
      "e5 Sucessfully intervened!\n",
      "e5 Sucessfully intervened!\n",
      "e6 Sucessfully intervened!\n",
      "e6 Sucessfully intervened!\n",
      "e6 Sucessfully intervened!\n",
      "e6 Sucessfully intervened!\n",
      "e6 Sucessfully intervened!\n",
      "e7 Sucessfully intervened!\n",
      "e7 Sucessfully intervened!\n",
      "e7 Sucessfully intervened!\n",
      "e7 Sucessfully intervened!\n",
      "e7 Sucessfully intervened!\n",
      "e8 Sucessfully intervened!\n",
      "e8 Sucessfully intervened!\n",
      "e8 Sucessfully intervened!\n",
      "e8 Sucessfully intervened!\n",
      "e8 Sucessfully intervened!\n",
      "f1 Sucessfully intervened!\n",
      "f1 Sucessfully intervened!\n",
      "f1 Sucessfully intervened!\n",
      "f1 Sucessfully intervened!\n",
      "f1 Sucessfully intervened!\n",
      "f2 Sucessfully intervened!\n",
      "f2 Sucessfully intervened!\n",
      "f2 Sucessfully intervened!\n",
      "f2 Sucessfully intervened!\n",
      "f2 Sucessfully intervened!\n",
      "f3 Sucessfully intervened!\n",
      "f3 Sucessfully intervened!\n",
      "f3 Sucessfully intervened!\n",
      "f3 Sucessfully intervened!\n",
      "f3 Sucessfully intervened!\n",
      "f4 Sucessfully intervened!\n",
      "f4 Sucessfully intervened!\n",
      "f4 Sucessfully intervened!\n",
      "f4 Sucessfully intervened!\n",
      "f4 Sucessfully intervened!\n",
      "f5 Sucessfully intervened!\n",
      "f5 Sucessfully intervened!\n",
      "f5 Sucessfully intervened!\n",
      "f5 Sucessfully intervened!\n",
      "f5 Sucessfully intervened!\n",
      "f6 Sucessfully intervened!\n",
      "f6 Sucessfully intervened!\n",
      "f6 Sucessfully intervened!\n",
      "f6 Sucessfully intervened!\n",
      "f6 Sucessfully intervened!\n",
      "f7 Sucessfully intervened!\n",
      "f7 Sucessfully intervened!\n",
      "f7 Sucessfully intervened!\n",
      "f7 Sucessfully intervened!\n",
      "f7 Sucessfully intervened!\n",
      "f8 Sucessfully intervened!\n",
      "f8 Sucessfully intervened!\n",
      "f8 Sucessfully intervened!\n",
      "f8 Sucessfully intervened!\n",
      "f8 Sucessfully intervened!\n",
      "g1 Sucessfully intervened!\n",
      "g1 Sucessfully intervened!\n",
      "g1 Sucessfully intervened!\n",
      "g1 Sucessfully intervened!\n",
      "g1 Sucessfully intervened!\n",
      "g2 Sucessfully intervened!\n",
      "g2 Sucessfully intervened!\n",
      "g2 Sucessfully intervened!\n",
      "g2 Sucessfully intervened!\n",
      "g2 Sucessfully intervened!\n",
      "g3 Sucessfully intervened!\n",
      "g3 Sucessfully intervened!\n",
      "g3 Sucessfully intervened!\n",
      "g3 Sucessfully intervened!\n",
      "g3 Sucessfully intervened!\n",
      "g4 Sucessfully intervened!\n",
      "g4 Sucessfully intervened!\n",
      "g4 Sucessfully intervened!\n",
      "g4 Sucessfully intervened!\n",
      "g4 Sucessfully intervened!\n",
      "g5 Sucessfully intervened!\n",
      "g5 Sucessfully intervened!\n",
      "g5 Sucessfully intervened!\n",
      "g5 Sucessfully intervened!\n",
      "g5 Sucessfully intervened!\n",
      "g6 Sucessfully intervened!\n",
      "g6 Sucessfully intervened!\n",
      "g6 Sucessfully intervened!\n",
      "g6 Sucessfully intervened!\n",
      "g6 Sucessfully intervened!\n",
      "g7 Sucessfully intervened!\n",
      "g7 Sucessfully intervened!\n",
      "g7 Sucessfully intervened!\n",
      "g7 Sucessfully intervened!\n",
      "g7 Sucessfully intervened!\n",
      "g8 Sucessfully intervened!\n",
      "g8 Sucessfully intervened!\n",
      "g8 Sucessfully intervened!\n",
      "g8 Sucessfully intervened!\n",
      "g8 Sucessfully intervened!\n",
      "h1 Sucessfully intervened!\n",
      "h1 Sucessfully intervened!\n",
      "h1 Sucessfully intervened!\n",
      "h1 Sucessfully intervened!\n",
      "h1 Sucessfully intervened!\n",
      "h2 Sucessfully intervened!\n",
      "h2 Sucessfully intervened!\n",
      "h2 Sucessfully intervened!\n",
      "h2 Sucessfully intervened!\n",
      "h2 Sucessfully intervened!\n",
      "h3 Sucessfully intervened!\n",
      "h3 Sucessfully intervened!\n",
      "h3 Sucessfully intervened!\n",
      "h3 Sucessfully intervened!\n",
      "h3 Sucessfully intervened!\n",
      "h4 Sucessfully intervened!\n",
      "h4 Sucessfully intervened!\n",
      "h4 Sucessfully intervened!\n",
      "h4 Sucessfully intervened!\n",
      "h4 Sucessfully intervened!\n",
      "h5 Sucessfully intervened!\n",
      "h5 Sucessfully intervened!\n",
      "h5 Sucessfully intervened!\n",
      "h5 Sucessfully intervened!\n",
      "h5 Sucessfully intervened!\n",
      "h6 Sucessfully intervened!\n",
      "h6 Sucessfully intervened!\n",
      "h6 Sucessfully intervened!\n",
      "h6 Sucessfully intervened!\n",
      "h6 Sucessfully intervened!\n",
      "h7 Sucessfully intervened!\n",
      "h7 Sucessfully intervened!\n",
      "h7 Sucessfully intervened!\n",
      "h7 Sucessfully intervened!\n",
      "h7 Sucessfully intervened!\n",
      "h8 Sucessfully intervened!\n",
      "h8 Sucessfully intervened!\n",
      "h8 Sucessfully intervened!\n",
      "h8 Sucessfully intervened!\n",
      "h8 Sucessfully intervened!\n"
     ]
    }
   ],
   "execution_count": 22
  },
  {
   "cell_type": "markdown",
   "id": "058a6362-505d-481a-96e5-1c52afdb5e1b",
   "metadata": {},
   "source": [
    "## Plot Attribution via Intervention heatmaps for all legal next-moves"
   ]
  },
  {
   "cell_type": "code",
   "id": "d48fb467-8901-4362-9d57-7ffb24a3cc6d",
   "metadata": {
    "ExecuteTime": {
     "end_time": "2025-09-14T16:52:39.269187Z",
     "start_time": "2025-09-14T16:52:35.657161Z"
    }
   },
   "source": [
    "tbu = pre_intv_valids\n",
    "total = len(tbu)\n",
    "rows = math.ceil(total / 4)\n",
    "\n",
    "fig, axs = plt.subplots(rows, 4, figsize=(30, rows * 8), dpi= 80, facecolor='w', edgecolor='k')\n",
    "axs = axs.flat\n",
    "\n",
    "for i, tobe_tcaved in enumerate(tbu):\n",
    "    pred = permit(tobe_tcaved)  # 0-63\n",
    "    r_pred, c_pred = pred // 8, pred % 8\n",
    "\n",
    "    tbp = np.zeros((8, 8), )\n",
    "    pre = gems[\"pre\"]\n",
    "    for k, w in gems.items():\n",
    "        if k == \"pre\":\n",
    "            continue\n",
    "        move = permit(k)  # 0-63\n",
    "        r, c = move // 8, move % 8\n",
    "        tbp[r, c] = - w[r_pred, c_pred] + pre[r_pred, c_pred]\n",
    "    ab.plot_hm(axs[i], tbp.flatten(), permit(tobe_tcaved), logit=True)"
   ],
   "outputs": [
    {
     "data": {
      "text/plain": [
       "<Figure size 2400x1280 with 8 Axes>"
      ],
      "image/png": "[encoded data removed]"
     },
     "metadata": {},
     "output_type": "display_data"
    }
   ],
   "execution_count": 23
  },
  {
   "metadata": {},
   "cell_type": "code",
   "outputs": [],
   "execution_count": null,
   "source": "",
   "id": "f4a1923a7a242b1b"
  }
 ],
 "metadata": {
  "kernelspec": {
   "display_name": "othello",
   "language": "python",
   "name": "othello"
  },
  "language_info": {
   "codemirror_mode": {
    "name": "ipython",
    "version": 3
   },
   "file_extension": ".py",
   "mimetype": "text/x-python",
   "name": "python",
   "nbconvert_exporter": "python",
   "pygments_lexer": "ipython3",
   "version": "3.8.8"
  }
 },
 "nbformat": 4,
 "nbformat_minor": 5
}
